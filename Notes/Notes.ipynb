{
 "cells": [
  {
   "cell_type": "markdown",
   "metadata": {},
   "source": [
    "# Django Notes\n",
    "## Courtesy\n",
    "> Corey Schafer: https://www.youtube.com/playlist?list=PL-osiE80TeTtoQCKZ03TU5fNfx2UY6U4p\\\n",
    "> Django Docs: https://docs.djangoproject.com/en/5.2/\n",
    "\n",
    "## Intro\n",
    "- It is MVT Framework.\\\n",
    "![MVT Flow](MVT_Flow.png)\n",
    "- Every module/feature is an (somewhat) independent app.\n",
    "    - This makes it modular\n",
    "    - It can be copy-pasted (theoretically) into another project.\n",
    "    - (Don't get overwhelmed).\n",
    "    - __P__ = Parent; __M__ = Main Project; __A__ = Module/Feature App\\\n",
    "    ![Django File Structure](Django_File_Structure.png)\n",
    "\n",
    "---"
   ]
  },
  {
   "cell_type": "markdown",
   "metadata": {},
   "source": [
    "## Setup and Commands\n",
    "### Virtual Environment Setup\n",
    "> python -m venv <.venv> - To create venv of that name\\\n",
    "> source <.venv>/Scripts/activate - To start that venv\\\n",
    "> deactivate - To stop that venv\\\n",
    "> pip freeze - To capture all packages installed in that venv; Store it in REQUIREMENTS.txt\n",
    "\n",
    "### Djando Project Setup\n",
    "> pip install django - To install Django\\\n",
    "> django-admin - To see all available commands\\\n",
    "> django-admin startproject < Project-Name > - To start a new project and create all init files\n",
    "> <.venv> can be moved inside < Project-Name >\n",
    "\n",
    "### Start and Stop Server\n",
    "> cd < Project-Name > -> python manage.py runserver - To start Django Server @ Port: 8000\\\n",
    "> Ctrl + C - Stop Django Server\\\n",
    "> python manage.py runserver 8125 - To start Django Server @ Port: 8125\n",
    "\n",
    "- http://localhost:8125/"
   ]
  },
  {
   "cell_type": "markdown",
   "metadata": {},
   "source": [
    "### Create Apps\n",
    "> python manage.py startapp < App > - To create a new app and all init files\\\n",
    "> Add app under primary project -> settings.py -> INSTALLED_APPS list\n",
    "\n",
    "### Migration and Admin SuperUser\n",
    "> python manage.py migrate - To apply migrations to your database\\\n",
    "> python manage.py makemigrations - To create migration files based on changes you make to your models\\\n",
    "> python manage.py createsuperuser - To create Admin Dashboard User\n",
    "\n",
    "### SQL Query Info\n",
    "> Create model in model.py -> python manage.py makemigrations\\\n",
    "> python manage.py sqlmigrate < App > < Migration-No. > - To know the SQL Query that is executed while migration\\\n",
    "> python manage.py migrate - Helps make changes to SQL Structure even after creation without complicated queries\n",
    "\n",
    "### Django Shell\n",
    "> python manage.py shell - Opens shell + django\\\n",
    "> python manage.py shell [-v 2, <0-3>] - Same with Verbose level\\\n",
    "> Ctrl + Z -> Enter - Exit shell\n",
    "\n",
    "#### Commands\n",
    "> User.objects.all() - All users\\\n",
    "> User.objects.\\[first/last\\]() - First/Last user\\\n",
    "> User.objects.filter(< filter >) - List of users with matching filter. Use first to get only 1\\\n",
    "> U.id and U.pk - Returns id/ primary key\\\n",
    "> P = Post(title=\"One\",content=\"1 - lorem ipsum\",author=U) - Create Post Object\\\n",
    "> P = Post(title=\"Two\",content=\"2 - lorem ipsum\",author_id=U.id)   - Create Post Object using U.id\n",
    ">   > P.save() - Save post to table\n",
    ">\n",
    "> P.creation_date - Returns datetime\\\n",
    "> P.author.email - Returns FK'S table's values\\\n",
    "> U.post_set.all() - Returns list of all Posts created by U\\\n",
    "> U.post_set.create(title=\"Three\", content=\"3 - lorem ipsum\") - Creates a Post where author = U\n",
    "> \n",
    "> U.profile.image.url - Photo location\n",
    "\n",
    "### Adding Mock Data\n",
    "> Used https://mockaroo.com/\\\n",
    "> Data format -> title, content, author_id; Located in /res/\\\n",
    "> In Shell, do the following:"
   ]
  },
  {
   "cell_type": "code",
   "execution_count": null,
   "metadata": {
    "vscode": {
     "languageId": "plaintext"
    }
   },
   "outputs": [],
   "source": [
    "import json\n",
    "with open(\"MOCK_DATA.json) as f:\n",
    "    p_J = json.load(f)\n",
    "for p in p_J:\n",
    "    post = Post(title=p['title'], content=p['content'], author.id=p['author_id'])\n",
    "    post.save()"
   ]
  },
  {
   "cell_type": "markdown",
   "metadata": {},
   "source": [
    "### Paginator\n",
    "> Used to split all data into pages\n",
    "\n",
    "#### Paginator Shell Commands\n",
    ">   from django.core.paginator import Paginator\\\n",
    ">    p = ['1', '2', '3', '4', '5', '6', '7']\\\n",
    ">   pO = Paginator(p, 2)\\\n",
    ">   pO.num_pages\n",
    ">   > 4\n",
    ">\n",
    ">   for i in pO.page_range:\\\n",
    ">       print(i)\n",
    ">   > 1\\\n",
    ">   > 2\\\n",
    ">   > 3\\\n",
    ">   > 4\n",
    "> \n",
    ">   p1 = pO.page(1)\\\n",
    ">   p1 \n",
    ">   > < Page 1 of 4>\n",
    "> \n",
    ">   p1.number\n",
    ">   > 1\n",
    "> \n",
    ">   p1.object_list\n",
    ">   > ['1', '2']\n",
    ">\n",
    ">   p1.has_previous(), p1.has_next()\n",
    ">   > (False, True)\n",
    "> \n",
    ">   p1.next_page_number()\n",
    ">   > 2\n",
    "\n",
    "---"
   ]
  },
  {
   "cell_type": "markdown",
   "metadata": {},
   "source": [
    "## TODO\n",
    "- Email-Password Reset\n",
    "- Users Flows, Views, Templates fix.\n",
    "- Built in Filters - https://docs.djangoproject.com/en/5.2/ref/templates/builtins/#built-in-filter-reference\n",
    "    - Date Formatting - https://docs.djangoproject.com/en/5.2/ref/templates/builtins/#date\n",
    "\n",
    "---"
   ]
  }
 ],
 "metadata": {
  "language_info": {
   "name": "python"
  }
 },
 "nbformat": 4,
 "nbformat_minor": 2
}
